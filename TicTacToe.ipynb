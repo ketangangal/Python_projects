{
 "cells": [
  {
   "cell_type": "code",
   "execution_count": 1,
   "metadata": {},
   "outputs": [],
   "source": [
    "from IPython.display import clear_output \n",
    "def display_board(input_data):\n",
    "    clear_output()\n",
    "    print(\"      <-BOARD->     \")\n",
    "    print(\"  -----------------\")\n",
    "    print(\" | \",input_data[7],\" | \",input_data[8],\" | \",input_data[9],\" | \",)\n",
    "    print(\" | \",input_data[4],\" | \",input_data[5],\" | \",input_data[6],\" | \",)\n",
    "    print(\" | \",input_data[1],\" | \",input_data[2],\" | \",input_data[3],\" | \",)\n",
    "    print(\"  -----------------\")"
   ]
  },
  {
   "cell_type": "code",
   "execution_count": 2,
   "metadata": {},
   "outputs": [],
   "source": [
    "def position():\n",
    "    choose ='wrong'\n",
    "    while choose.isdigit() == False or choose not in range(1,10):\n",
    "        choose = input(\"Choose a position in between (1-9) : \")\n",
    "        if choose.isdigit():\n",
    "            if int(choose) not in range(1,10):\n",
    "                print(\"Please Enter position in between (1-9): \")\n",
    "            else:\n",
    "                return int(choose) \n",
    "        else:\n",
    "            print(\"Please Enter number Only : \")\n",
    "\n",
    "    "
   ]
  },
  {
   "cell_type": "code",
   "execution_count": 3,
   "metadata": {},
   "outputs": [],
   "source": [
    "def choose_marker():\n",
    "    marker_1 = \"initial\"\n",
    "    marker_2 =\"second_initial\"\n",
    "    while marker_1 not in [\"X\",\"O\"]:\n",
    "        marker_1 = input(\"Player one choose marker(X or O) : \")\n",
    "        marker_1 = marker_1.upper()\n",
    "        if marker_1.upper() not in [\"X\",\"O\"]:\n",
    "            print(\"please Enter (X or O) Only :\")\n",
    "        else:\n",
    "            if marker_1  == \"X\":\n",
    "                marker_2 = \"O\" \n",
    "            else:\n",
    "                marker_2 = \"X\"\n",
    "    print(\"Player 1 marker : {}\".format(marker_1))\n",
    "    print(\"Player 2 marker : {}\".format(marker_2))\n",
    "    return marker_1,marker_2"
   ]
  },
  {
   "cell_type": "code",
   "execution_count": 4,
   "metadata": {},
   "outputs": [],
   "source": [
    "from random import shuffle\n",
    "def first_chance():\n",
    "    coin = [1,2]\n",
    "    shuffle(coin)\n",
    "    if coin[0] == 1:\n",
    "        print(\"Player one will go Fisrt : \")\n",
    "        return \"Player_1\"\n",
    "    else:\n",
    "        print(\"Player two will go First : \")\n",
    "        return \"Player_2\"\n",
    "  "
   ]
  },
  {
   "cell_type": "code",
   "execution_count": 5,
   "metadata": {},
   "outputs": [],
   "source": [
    "def place_marker(place,marker):\n",
    "    not_different = True\n",
    "    while not_different:\n",
    "        if markers[place] in ['X','O']:\n",
    "            print(\"Position is already taken Choose another position !\")\n",
    "            place = position()\n",
    "        else:\n",
    "            markers[place] = marker\n",
    "            print(\"--------------------------\")\n",
    "            display_board(markers)\n",
    "            not_different = False"
   ]
  },
  {
   "cell_type": "code",
   "execution_count": 6,
   "metadata": {},
   "outputs": [],
   "source": [
    "def win_check(input_data,sign):\n",
    "    return (input_data[1]==input_data[2]==input_data[3] == sign or \n",
    "        input_data[4]==input_data[5]==input_data[6] == sign or \n",
    "        input_data[7]==input_data[8]==input_data[9] == sign or \n",
    "        input_data[1]==input_data[4]==input_data[7] == sign or\n",
    "        input_data[2]==input_data[5]==input_data[8] == sign or \n",
    "        input_data[3]==input_data[6]==input_data[9] == sign or\n",
    "        input_data[1]==input_data[5]==input_data[9] == sign or \n",
    "        input_data[3]==input_data[5]==input_data[7]== sign )\n",
    "        "
   ]
  },
  {
   "cell_type": "code",
   "execution_count": 7,
   "metadata": {},
   "outputs": [],
   "source": [
    "def board_full(input_data):\n",
    "    for mark in input_data:\n",
    "        if mark in [' ']:\n",
    "            return False\n",
    "    else:\n",
    "        return True"
   ]
  },
  {
   "cell_type": "code",
   "execution_count": 8,
   "metadata": {},
   "outputs": [
    {
     "name": "stdout",
     "output_type": "stream",
     "text": [
      "      <-BOARD->     \n",
      "  -----------------\n",
      " |     |     |  X  | \n",
      " |  O  |  X  |  O  | \n",
      " |  X  |  O  |  X  | \n",
      "  -----------------\n",
      "Player Two Won The Game\n",
      "Do you want to play again! Yes or No : 7\n"
     ]
    }
   ],
   "source": [
    "game_on = True\n",
    "nobody_wins = True\n",
    "markers = ['#',' ',' ',' ',' ',' ',' ',' ',' ',' ']\n",
    "print(\"Welcome To Tic Tac Toe !\")\n",
    "\n",
    "while game_on:\n",
    "    # Display Board\n",
    "    display_board(markers)\n",
    "    \n",
    "    \n",
    "    #Choose marker\n",
    "    print(\"--------------------------\")\n",
    "    player1_marker , player2_marker = choose_marker() \n",
    "    \n",
    "    #who will go first \n",
    "    print(\"--------------------------\")\n",
    "    result = first_chance()\n",
    "    \n",
    "    \n",
    "    while nobody_wins:\n",
    "    \n",
    "        #choose position and place marker\n",
    "        if result == 'Player_1':\n",
    "            print(\"Player one choose position : \")\n",
    "            position_on_board = position()\n",
    "            place_marker(position_on_board,player1_marker)\n",
    "            if win_check(markers,player1_marker):\n",
    "                print(\"Player One Won The Game\")\n",
    "                nobody_wins = False\n",
    "\n",
    "            else:\n",
    "                if board_full(markers):\n",
    "                    display_board(markers)\n",
    "                    print(\"Its A Tie !\")\n",
    "                    nobody_wins = False\n",
    "                else: \n",
    "                    result = \"Player_2\"\n",
    "                    \n",
    "        else:\n",
    "            print(\"Player Two choose position : \")\n",
    "            position_on_board = position()\n",
    "            place_marker(position_on_board,player2_marker)\n",
    "            if win_check(markers,player2_marker):\n",
    "                print(\"Player Two Won The Game\")\n",
    "                nobody_wins = False\n",
    "            else:\n",
    "                if board_full(markers):\n",
    "                    display_board(markers)\n",
    "                    print(\"Its A Tie !\")\n",
    "                    nobody_wins = False\n",
    "                else: \n",
    "                    result = \"Player_1\"\n",
    "    \n",
    "    #Play Again condition\n",
    "    Replay = input(\"Do you want to play again! Yes or No : \")\n",
    "    if Replay[0].upper() == \"Y\":\n",
    "        markers = ['#',' ',' ',' ',' ',' ',' ',' ',' ',' ']\n",
    "        clear_output()\n",
    "        nobody_wins = True\n",
    "        continue\n",
    "    else:\n",
    "        game_on = False\n",
    "    \n",
    "    "
   ]
  },
  {
   "cell_type": "code",
   "execution_count": null,
   "metadata": {},
   "outputs": [],
   "source": []
  },
  {
   "cell_type": "code",
   "execution_count": null,
   "metadata": {},
   "outputs": [],
   "source": []
  },
  {
   "cell_type": "code",
   "execution_count": null,
   "metadata": {},
   "outputs": [],
   "source": []
  }
 ],
 "metadata": {
  "kernelspec": {
   "display_name": "Python 3",
   "language": "python",
   "name": "python3"
  },
  "language_info": {
   "codemirror_mode": {
    "name": "ipython",
    "version": 3
   },
   "file_extension": ".py",
   "mimetype": "text/x-python",
   "name": "python",
   "nbconvert_exporter": "python",
   "pygments_lexer": "ipython3",
   "version": "3.7.7"
  }
 },
 "nbformat": 4,
 "nbformat_minor": 4
}
