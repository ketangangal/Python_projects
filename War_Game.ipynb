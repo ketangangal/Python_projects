{
 "cells": [
  {
   "cell_type": "code",
   "execution_count": 39,
   "metadata": {},
   "outputs": [],
   "source": [
    "import random\n",
    "suits = ('Hearts','Diamonds','Spades','Clubes')\n",
    "ranks = ('Two','Three','Four','Five','Six','Seven','Eight','Nine','Ten','Jack','Queen','king','Ace')\n",
    "values = {'Two':2,'Three':3,'Four':4,'Five':5,'Six':6,\n",
    "          'Seven':7,'Eight':8,'Nine':9,'Ten':10,'Jack':11,'Queen':12,'king':13,'Ace':14}"
   ]
  },
  {
   "cell_type": "code",
   "execution_count": 40,
   "metadata": {},
   "outputs": [],
   "source": [
    "class Card:\n",
    "    def __init__(self,suit,rank):\n",
    "        self.suit = suit\n",
    "        self.rank = rank\n",
    "        self.value = values[rank]\n",
    "    def __str__(self):\n",
    "        return self.rank + \" of \" + self.suit"
   ]
  },
  {
   "cell_type": "code",
   "execution_count": 41,
   "metadata": {},
   "outputs": [],
   "source": [
    "class Deck():\n",
    "    def __init__(self):\n",
    "        self.deck = []\n",
    "        for suit in suits:       \n",
    "            for rank in ranks:\n",
    "                created_card = Card(suit,rank)\n",
    "                self.deck.append(created_card)\n",
    "                \n",
    "    def shuffle_deck(self):\n",
    "        random.shuffle(self.deck)\n",
    "        \n",
    "    def print_deck(self):\n",
    "        for card_obj in self.deck:\n",
    "            print(card_obj)\n",
    "            \n",
    "    def rearrange_deck(self):\n",
    "        Deck.__init__(self)\n",
    "        \n",
    "    def deal_one(self):\n",
    "        return self.deck.pop()\n",
    "    "
   ]
  },
  {
   "cell_type": "code",
   "execution_count": 42,
   "metadata": {},
   "outputs": [],
   "source": [
    "last = Deck()"
   ]
  },
  {
   "cell_type": "code",
   "execution_count": 55,
   "metadata": {},
   "outputs": [],
   "source": [
    "last.Shuffle_deck()"
   ]
  },
  {
   "cell_type": "code",
   "execution_count": 93,
   "metadata": {},
   "outputs": [],
   "source": [
    "card1 = last.deal_one()"
   ]
  },
  {
   "cell_type": "code",
   "execution_count": 58,
   "metadata": {},
   "outputs": [],
   "source": [
    "last.rearrange_deck()"
   ]
  },
  {
   "cell_type": "code",
   "execution_count": 59,
   "metadata": {},
   "outputs": [
    {
     "name": "stdout",
     "output_type": "stream",
     "text": [
      "Eight of Diamonds\n"
     ]
    }
   ],
   "source": [
    "print(card1)"
   ]
  },
  {
   "cell_type": "code",
   "execution_count": 43,
   "metadata": {},
   "outputs": [],
   "source": [
    "class Player():\n",
    "    \n",
    "    def __init__(self,name):\n",
    "        self.name = name\n",
    "        self.all_cards = []\n",
    "        \n",
    "    def remove_one(self):\n",
    "        return self.all_cards.pop(0)\n",
    "    \n",
    "    def add_cards(self,new_card):\n",
    "        if type(new_card) == type([]):\n",
    "            self.all_cards.extend(new_card)\n",
    "        else:\n",
    "            self.all_cards.append(new_card)\n",
    "            \n",
    "    def __str__(self):\n",
    "        return 'player {0}  has {1}  cards.'.format(self.name,len(self.all_cards))\n",
    "            "
   ]
  },
  {
   "cell_type": "code",
   "execution_count": 97,
   "metadata": {},
   "outputs": [],
   "source": [
    "player_1 = Player('ketan')"
   ]
  },
  {
   "cell_type": "code",
   "execution_count": 114,
   "metadata": {},
   "outputs": [
    {
     "name": "stdout",
     "output_type": "stream",
     "text": [
      "player ketan  has 0  cards.\n"
     ]
    }
   ],
   "source": [
    "print(player_1)"
   ]
  },
  {
   "cell_type": "code",
   "execution_count": 111,
   "metadata": {},
   "outputs": [],
   "source": [
    "player_1.add_cards(card1)"
   ]
  },
  {
   "cell_type": "code",
   "execution_count": 113,
   "metadata": {},
   "outputs": [
    {
     "data": {
      "text/plain": [
       "<__main__.Card at 0x1d5b4a7e908>"
      ]
     },
     "execution_count": 113,
     "metadata": {},
     "output_type": "execute_result"
    }
   ],
   "source": [
    "player_1.remove_one()"
   ]
  },
  {
   "cell_type": "code",
   "execution_count": 53,
   "metadata": {},
   "outputs": [],
   "source": [
    "# initial logic\n",
    "Player_1 = Player('Ketan')\n",
    "Player_2 = Player('Gagan')\n",
    "\n",
    "new_deck = Deck()\n",
    "new_deck.shuffle_deck()\n",
    "\n",
    "for i in range(26):\n",
    "    Player_1.add_cards(new_deck.deal_one())\n",
    "    Player_2.add_cards(new_deck.deal_one())"
   ]
  },
  {
   "cell_type": "code",
   "execution_count": 54,
   "metadata": {},
   "outputs": [],
   "source": [
    "game_on = True"
   ]
  },
  {
   "cell_type": "code",
   "execution_count": 55,
   "metadata": {},
   "outputs": [
    {
     "name": "stdout",
     "output_type": "stream",
     "text": [
      "Round 0 !\n",
      "Round 1 !\n",
      "Round 2 !\n",
      "Round 3 !\n",
      "Round 4 !\n",
      "Round 5 !\n",
      " WAR \n",
      "Round 6 !\n",
      "Round 7 !\n",
      "Round 8 !\n",
      "Round 9 !\n",
      "Round 10 !\n",
      "Round 11 !\n",
      "Round 12 !\n",
      "Round 13 !\n",
      "Round 14 !\n",
      "Round 15 !\n",
      "Round 16 !\n",
      "Round 17 !\n",
      "Round 18 !\n",
      "Round 19 !\n",
      "Round 20 !\n",
      "Round 21 !\n",
      " WAR \n",
      "Round 22 !\n",
      "Round 23 !\n",
      "Round 24 !\n",
      "Round 25 !\n",
      "Round 26 !\n",
      "Round 27 !\n",
      "Round 28 !\n",
      "Round 29 !\n",
      "Round 30 !\n",
      "Round 31 !\n",
      "Round 32 !\n",
      "Round 33 !\n",
      "Round 34 !\n",
      "Round 35 !\n",
      " WAR \n",
      "Round 36 !\n",
      "Round 37 !\n",
      "Round 38 !\n",
      "Round 39 !\n",
      "Round 40 !\n",
      "Round 41 !\n",
      "Round 42 !\n",
      "Round 43 !\n",
      "Round 44 !\n",
      "Round 45 !\n",
      "Round 46 !\n",
      "Round 47 !\n",
      "Round 48 !\n",
      "Round 49 !\n",
      "Round 50 !\n",
      "Round 51 !\n",
      "Round 52 !\n",
      "Round 53 !\n",
      "Player two Out of cards! Player one Won!\n"
     ]
    }
   ],
   "source": [
    "round_num = 0\n",
    "\n",
    "while game_on:\n",
    "    \n",
    "    print(f'Round {round_num} !')\n",
    "    round_num +=1\n",
    "    \n",
    "    if(len(Player_1.all_cards) == 0):\n",
    "        print(f'Player one Out of cards! Player Two Won!')\n",
    "        game_on = False\n",
    "        break\n",
    "        \n",
    "    if(len(Player_2.all_cards) == 0):\n",
    "        print(f'Player two Out of cards! Player one Won!')\n",
    "        game_on = False\n",
    "        break\n",
    "        \n",
    "    \n",
    "    player_1_cards = []\n",
    "    player_1_cards.append(Player_1.remove_one())\n",
    "    \n",
    "    player_2_cards = []\n",
    "    player_2_cards.append(Player_2.remove_one())\n",
    "    \n",
    "    war = True  ;\n",
    "    \n",
    "    while war :\n",
    "        if player_1_cards[-1].value > player_2_cards[-1].value:\n",
    "            Player_1.add_cards(player_1_cards)\n",
    "            Player_1.add_cards(player_2_cards)\n",
    "            break\n",
    "            \n",
    "        \n",
    "        elif player_1_cards[-1].value < player_2_cards[-1].value:\n",
    "            \n",
    "            Player_2.add_cards(player_1_cards)\n",
    "            Player_2.add_cards(player_2_cards)\n",
    "            break\n",
    "        \n",
    "        else:\n",
    "            print(\" WAR \")\n",
    "            if len(Player_1.all_cards) < 5:\n",
    "                print(\"Player one out of cards ! In war\")\n",
    "                print(\"Player two won!\")\n",
    "                war = False\n",
    "                game_on = False\n",
    "                break\n",
    "            elif len(Player_2.all_cards) < 5:\n",
    "                print(\"Player two out of cards ! In war\")\n",
    "                print(\"Player one won!\")\n",
    "                war = False\n",
    "                game_on = False\n",
    "                break\n",
    "            else: \n",
    "                for num in range(5):\n",
    "                    player_1_cards.append(Player_1.remove_one())\n",
    "                    player_2_cards.append(Player_2.remove_one())   \n",
    "                "
   ]
  },
  {
   "cell_type": "code",
   "execution_count": null,
   "metadata": {},
   "outputs": [],
   "source": []
  },
  {
   "cell_type": "code",
   "execution_count": null,
   "metadata": {},
   "outputs": [],
   "source": []
  }
 ],
 "metadata": {
  "kernelspec": {
   "display_name": "Python 3",
   "language": "python",
   "name": "python3"
  },
  "language_info": {
   "codemirror_mode": {
    "name": "ipython",
    "version": 3
   },
   "file_extension": ".py",
   "mimetype": "text/x-python",
   "name": "python",
   "nbconvert_exporter": "python",
   "pygments_lexer": "ipython3",
   "version": "3.7.7"
  }
 },
 "nbformat": 4,
 "nbformat_minor": 4
}
