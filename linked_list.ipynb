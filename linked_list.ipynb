{
 "cells": [
  {
   "cell_type": "markdown",
   "id": "7295b12f",
   "metadata": {},
   "source": [
    "# Linked list\n",
    "## Creation"
   ]
  },
  {
   "cell_type": "code",
   "execution_count": 2,
   "id": "4df87fc9",
   "metadata": {},
   "outputs": [],
   "source": [
    "# Step 1 Create head and tail and initialize with null\n",
    "# step 2 create a blank node and ref to null\n",
    "# step 3 link head and tail to this node"
   ]
  },
  {
   "cell_type": "code",
   "execution_count": 36,
   "id": "51b92454",
   "metadata": {},
   "outputs": [],
   "source": [
    "class Node:\n",
    "    def __init__(self,value=None):\n",
    "        self.value = value \n",
    "        self.next = None\n",
    "    \n",
    "class SLinkedList:\n",
    "    def __init__(self):\n",
    "        self.head = None\n",
    "        self.tail = None"
   ]
  },
  {
   "cell_type": "code",
   "execution_count": 37,
   "id": "fcb5f995",
   "metadata": {},
   "outputs": [],
   "source": [
    "SinglyLinkedList = SLinkedList()"
   ]
  },
  {
   "cell_type": "code",
   "execution_count": 38,
   "id": "390194ae",
   "metadata": {},
   "outputs": [],
   "source": [
    "node1 = Node(1)\n",
    "node2 = Node(2)"
   ]
  },
  {
   "cell_type": "code",
   "execution_count": 39,
   "id": "671bf56c",
   "metadata": {},
   "outputs": [],
   "source": [
    "SinglyLinkedList.head = node1"
   ]
  },
  {
   "cell_type": "code",
   "execution_count": 40,
   "id": "2fdbfc6f",
   "metadata": {},
   "outputs": [],
   "source": [
    "node1.next = node2"
   ]
  },
  {
   "cell_type": "code",
   "execution_count": 41,
   "id": "4e004753",
   "metadata": {},
   "outputs": [],
   "source": [
    "SinglyLinkedList.tail = node2 "
   ]
  },
  {
   "cell_type": "markdown",
   "id": "f7f428cc",
   "metadata": {},
   "source": [
    "## Insertion"
   ]
  },
  {
   "cell_type": "code",
   "execution_count": 42,
   "id": "4ac0faf1",
   "metadata": {},
   "outputs": [],
   "source": [
    "# insertion at beginning\n",
    "node0  = Node(0)\n",
    "node0.next = SinglyLinkedList.head\n",
    "SinglyLinkedList.head = node0"
   ]
  },
  {
   "cell_type": "code",
   "execution_count": 51,
   "id": "f25bdf66",
   "metadata": {},
   "outputs": [],
   "source": [
    "SinglyLinkedList.head.next.next.next.value"
   ]
  },
  {
   "cell_type": "code",
   "execution_count": 19,
   "id": "dc6c3358",
   "metadata": {},
   "outputs": [],
   "source": [
    "# insertion after node\n",
    "node3 = Node(3)\n",
    "node3.next = node2\n",
    "node1.next = node3 "
   ]
  },
  {
   "cell_type": "code",
   "execution_count": 27,
   "id": "ae7b5c6f",
   "metadata": {},
   "outputs": [],
   "source": [
    "# insertion at end\n",
    "node4 = Node(4)\n",
    "node4.next = None\n",
    "SinglyLinkedList.tail = node4"
   ]
  },
  {
   "cell_type": "code",
   "execution_count": 29,
   "id": "3b849feb",
   "metadata": {},
   "outputs": [
    {
     "data": {
      "text/plain": [
       "4"
      ]
     },
     "execution_count": 29,
     "metadata": {},
     "output_type": "execute_result"
    }
   ],
   "source": [
    "SinglyLinkedList.tail."
   ]
  },
  {
   "cell_type": "code",
   "execution_count": null,
   "id": "56169a50",
   "metadata": {},
   "outputs": [],
   "source": [
    "def insertSLL(self, value, location):\n",
    "        newNode = Node(value)\n",
    "        if self.head is None:\n",
    "            self.head = newNode\n",
    "            self.tail = newNode\n",
    "        else:\n",
    "            if location == 0:\n",
    "                newNode.next = self.head\n",
    "                self.head = newNode\n",
    "            elif location == -1:\n",
    "                newNode.next = None\n",
    "                self.tail.next = newNode\n",
    "                self.tail = newNode\n",
    "            else:\n",
    "                tempNode = self.head\n",
    "                index = 0\n",
    "                while index < location - 1:\n",
    "                    tempNode = tempNode.next\n",
    "                    index += 1\n",
    "                nextNode = tempNode.next\n",
    "                tempNode.next = newNode\n",
    "                newNode.next = nextNode\n",
    "                if tempNode == self.tail:\n",
    "                    self.tail=newNode"
   ]
  },
  {
   "cell_type": "code",
   "execution_count": 201,
   "id": "d6dc9ffd",
   "metadata": {},
   "outputs": [],
   "source": [
    "class Node:\n",
    "    def __init__(self,value=None):\n",
    "        self.value = value \n",
    "        self.next = None\n",
    "        \n",
    "class SLinkedList:\n",
    "    \n",
    "    def __init__(self):\n",
    "        self.head = None\n",
    "        self.tail = None\n",
    "        \n",
    "    def insert(self,value,location):\n",
    "        newNode = Node(value)\n",
    "        \n",
    "        if self.head is None :\n",
    "            self.head = newNode\n",
    "            self.tail = newNode\n",
    "\n",
    "        elif location == 0:\n",
    "            newNode.next = self.head\n",
    "            self.head = newNode\n",
    "            \n",
    "        elif location == -1:\n",
    "            newNode.next = None\n",
    "            self.tail.next = newNode\n",
    "            self.tail = newNode\n",
    "            \n",
    "        else:\n",
    "            index = 0\n",
    "            tempNode = self.head\n",
    "            while index < location -1 :\n",
    "                tempNode = tempNode.next\n",
    "                index+=1\n",
    "            nextNode = tempNode.next\n",
    "            tempNode.next = newNode \n",
    "            newNode.next = nextNode\n",
    "            if tempNote == self.tail:\n",
    "                self.tail = newNode\n",
    "        "
   ]
  },
  {
   "cell_type": "code",
   "execution_count": 202,
   "id": "1e4cc8c6",
   "metadata": {},
   "outputs": [],
   "source": [
    "sll = SLinkedList()"
   ]
  },
  {
   "cell_type": "code",
   "execution_count": 203,
   "id": "135c86f2",
   "metadata": {},
   "outputs": [],
   "source": [
    "sll.insert(5,0)"
   ]
  },
  {
   "cell_type": "code",
   "execution_count": 204,
   "id": "aa4c6ee2",
   "metadata": {},
   "outputs": [
    {
     "ename": "AttributeError",
     "evalue": "'NoneType' object has no attribute 'value'",
     "output_type": "error",
     "traceback": [
      "\u001b[1;31m---------------------------------------------------------------------------\u001b[0m",
      "\u001b[1;31mAttributeError\u001b[0m                            Traceback (most recent call last)",
      "\u001b[1;32m<ipython-input-204-ec9f7925b541>\u001b[0m in \u001b[0;36m<module>\u001b[1;34m\u001b[0m\n\u001b[1;32m----> 1\u001b[1;33m \u001b[0msll\u001b[0m\u001b[1;33m.\u001b[0m\u001b[0mhead\u001b[0m\u001b[1;33m.\u001b[0m\u001b[0mnext\u001b[0m\u001b[1;33m.\u001b[0m\u001b[0mvalue\u001b[0m\u001b[1;33m\u001b[0m\u001b[1;33m\u001b[0m\u001b[0m\n\u001b[0m",
      "\u001b[1;31mAttributeError\u001b[0m: 'NoneType' object has no attribute 'value'"
     ]
    }
   ],
   "source": [
    "sll.head.next.value"
   ]
  },
  {
   "cell_type": "markdown",
   "id": "42459ba7",
   "metadata": {},
   "source": [
    "## Traversing"
   ]
  },
  {
   "cell_type": "code",
   "execution_count": 260,
   "id": "ffd54811",
   "metadata": {},
   "outputs": [],
   "source": [
    "class Node:\n",
    "    def __init__(self,value=None):\n",
    "        self.value = value \n",
    "        self.next = None\n",
    "        \n",
    "class SLinkedList:\n",
    "    \n",
    "    def __init__(self):\n",
    "        self.head = None\n",
    "        self.tail = None\n",
    "        \n",
    "    def insert(self,value,location):\n",
    "        newNode = Node(value)\n",
    "        \n",
    "        if self.head is None :\n",
    "            self.head = newNode\n",
    "            self.tail = newNode\n",
    "\n",
    "        elif location == 0:\n",
    "            newNode.next = self.head\n",
    "            self.head = newNode\n",
    "            \n",
    "        elif location == -1:\n",
    "            newNode.next = None\n",
    "            self.tail.next = newNode\n",
    "            self.tail = newNode\n",
    "            \n",
    "        else:\n",
    "            index = 0\n",
    "            tempNode = self.head\n",
    "            while index < location -1 :\n",
    "                tempNode = tempNode.next\n",
    "                index+=1\n",
    "            nextNode = tempNode.next\n",
    "            tempNode.next = newNode \n",
    "            newNode.next = nextNode\n",
    "            if tempNode == self.tail:\n",
    "                self.tail = newNode\n",
    "                \n",
    "    def traverse(self): \n",
    "        if self.head is None:\n",
    "            print(\"The single linked list does not exit!\")\n",
    "        else:\n",
    "            node = self.head\n",
    "            while node is not None:\n",
    "                print(node.value)\n",
    "                node = node.next\n",
    "                \n",
    "    def search(self,value):\n",
    "        if self.head is None:\n",
    "            print(\"The single linked list does not exit!\")\n",
    "        else:\n",
    "            node = self.head\n",
    "            index = 0\n",
    "            while node is not None:\n",
    "                if node.value == value:\n",
    "                    print(\"Value Found at index :\",index)\n",
    "                    break\n",
    "                index+=1\n",
    "                node = node.next\n",
    "            \n",
    "            else:\n",
    "                print(\"Value does not exist!\")\n",
    "                \n",
    "    def delete(self,location):\n",
    "        if self.head == None:\n",
    "            print(\"the linked list does not exist!\")\n",
    "            \n",
    "        else:\n",
    "            if location == 0:\n",
    "                if self.head == self.tail:\n",
    "                    self.head = None\n",
    "                    self.tail = None\n",
    "                else:\n",
    "                    self.head = self.head.next\n",
    "\n",
    "            elif location == -1:\n",
    "                if self.head == self.tail:\n",
    "                    self.head = None\n",
    "                    self.tail = None\n",
    "                else:\n",
    "                    node = self.head\n",
    "                    while node is not None:\n",
    "                        if node.next == self.tail:\n",
    "                            break\n",
    "                        node = node.next\n",
    "                    node.next = None\n",
    "                    self.tail = node \n",
    "            else:\n",
    "                tempNode = self.head \n",
    "                index = 0\n",
    "                while index < location-2:\n",
    "                    tempNode = tempNode.next\n",
    "                    index +=1\n",
    "                    \n",
    "                nextNode = tempNode.next \n",
    "                tempNode.next = nextNode.next\n",
    "    \n",
    "    def deleteEntireSll(self):\n",
    "        if self.head is None:\n",
    "            print(\"Sll doest not exist!\")\n",
    "        else:\n",
    "            self.head = None\n",
    "            self.tail = None\n",
    "        \n",
    "                "
   ]
  },
  {
   "cell_type": "code",
   "execution_count": 261,
   "id": "2b63f22e",
   "metadata": {},
   "outputs": [],
   "source": [
    "sll = SLinkedList()"
   ]
  },
  {
   "cell_type": "code",
   "execution_count": 262,
   "id": "442b87ac",
   "metadata": {},
   "outputs": [],
   "source": [
    "sll.insert(0,0)\n",
    "sll.insert(1,1)\n",
    "sll.insert(2,2)\n",
    "sll.insert(3,3)\n",
    "sll.insert(4,4)"
   ]
  },
  {
   "cell_type": "code",
   "execution_count": 264,
   "id": "32df6159",
   "metadata": {},
   "outputs": [
    {
     "name": "stdout",
     "output_type": "stream",
     "text": [
      "0\n",
      "1\n",
      "2\n",
      "3\n",
      "4\n"
     ]
    }
   ],
   "source": [
    "sll.traverse()"
   ]
  },
  {
   "cell_type": "code",
   "execution_count": 265,
   "id": "8660c84c",
   "metadata": {},
   "outputs": [
    {
     "name": "stdout",
     "output_type": "stream",
     "text": [
      "Value Found at index : 4\n"
     ]
    }
   ],
   "source": [
    "sll.search(4)"
   ]
  },
  {
   "cell_type": "code",
   "execution_count": 266,
   "id": "e678baaa",
   "metadata": {},
   "outputs": [],
   "source": [
    "sll.delete(0)"
   ]
  },
  {
   "cell_type": "code",
   "execution_count": 267,
   "id": "cf7fb517",
   "metadata": {},
   "outputs": [
    {
     "name": "stdout",
     "output_type": "stream",
     "text": [
      "1\n",
      "2\n",
      "3\n",
      "4\n"
     ]
    }
   ],
   "source": [
    "sll.traverse()"
   ]
  },
  {
   "cell_type": "code",
   "execution_count": 187,
   "id": "f54178f1",
   "metadata": {},
   "outputs": [],
   "source": [
    "sll.delete(-1)"
   ]
  },
  {
   "cell_type": "code",
   "execution_count": 209,
   "id": "e4bda942",
   "metadata": {},
   "outputs": [
    {
     "name": "stdout",
     "output_type": "stream",
     "text": [
      "0\n",
      "1\n",
      "2\n",
      "3\n",
      "4\n"
     ]
    }
   ],
   "source": [
    "sll.traverse()"
   ]
  },
  {
   "cell_type": "code",
   "execution_count": 210,
   "id": "67b8380e",
   "metadata": {},
   "outputs": [],
   "source": [
    "sll.delete(2)"
   ]
  },
  {
   "cell_type": "code",
   "execution_count": 211,
   "id": "7cabb225",
   "metadata": {},
   "outputs": [
    {
     "name": "stdout",
     "output_type": "stream",
     "text": [
      "0\n",
      "2\n",
      "3\n",
      "4\n"
     ]
    }
   ],
   "source": [
    "sll.traverse()"
   ]
  },
  {
   "cell_type": "markdown",
   "id": "eacab1ab",
   "metadata": {},
   "source": [
    "# Circular linked list"
   ]
  },
  {
   "cell_type": "code",
   "execution_count": 334,
   "id": "8095dbc0",
   "metadata": {},
   "outputs": [],
   "source": [
    "class Node:\n",
    "    def __init__(self,value):\n",
    "        self.value = value\n",
    "        self.next = None\n",
    "        \n",
    "class CricularSll:\n",
    "    def __init__(self):\n",
    "        self.head = None\n",
    "        self.tail = None\n",
    "        \n",
    "    def insert(self,value,location):\n",
    "        newNode = Node(value)\n",
    "        \n",
    "        if self.head is None:\n",
    "            self.head = newNode\n",
    "            self.tail = newNode \n",
    "            newNode.next = newNode\n",
    "            \n",
    "        else:\n",
    "            if location == 0:\n",
    "                newNode.next = self.head\n",
    "                self.head = newNode\n",
    "                self.tail.next = newNode\n",
    "                \n",
    "            elif location == -1:\n",
    "                self.tail.next = newNode\n",
    "                newNode.next = self.head\n",
    "                self.tail = newNode\n",
    "                \n",
    "            else:\n",
    "                node = self.head\n",
    "                index=0 \n",
    "                while index < location-1:\n",
    "                    node = node.next \n",
    "                    index+=1\n",
    "                    \n",
    "                newNode.next = node.next \n",
    "                node.next = newNode\n",
    "                if node == self.tail:\n",
    "                    self.tail = newNode\n",
    "                    \n",
    "    def traverse(self):\n",
    "        if self.head is None:\n",
    "            return 'Circular linked list does not exist'\n",
    "        else:\n",
    "            node = self.head\n",
    "            while True:\n",
    "                print(node.value)\n",
    "                node = node.next \n",
    "                if node == self.head:\n",
    "                    choose = input(\"Do you want to print again!\")\n",
    "                    if choose == 'Yes' or choose =='yes':\n",
    "                        continue\n",
    "                    else:\n",
    "                        break\n",
    "                        \n",
    "    def search(self,value):\n",
    "        if self.head is None:\n",
    "            return 'Circular linked list does not exist'\n",
    "        else:\n",
    "            node = self.head\n",
    "            while True:\n",
    "                if node.value == value:\n",
    "                    return 'Value Found !'\n",
    "                node = node.next\n",
    "                if node == self.head:\n",
    "                        return 'Value Not Found !'   \n",
    "                    \n",
    "    def delete(self,location):\n",
    "        if self.head is None:\n",
    "            return 'csll does not exist !'\n",
    "        else:\n",
    "            if location == 0:\n",
    "                if self.head == self.tail:\n",
    "                    self.head.next = None\n",
    "                    self.head = None\n",
    "                    self.tail = None\n",
    "                else:\n",
    "                    self.head = self.head.next\n",
    "                    self.tail.next = self.head\n",
    "                    \n",
    "            elif location ==-1:\n",
    "                if self.head == self.tail:\n",
    "                    self.head.next = None\n",
    "                    self.head = None\n",
    "                    self.tail = None\n",
    "                else:\n",
    "                    node = self.head\n",
    "                    while True:\n",
    "                        if node.next == self.tail:\n",
    "                            break\n",
    "                        node = node.next \n",
    "                    node.next = self.head\n",
    "                    self.tail.next = None\n",
    "                    self.tail = node \n",
    "            else:\n",
    "                node = self.head\n",
    "                index = 0 \n",
    "                while index < location -1:\n",
    "                    node = node.next \n",
    "                    index +=1\n",
    "                    \n",
    "                node.next = node.next.next \n",
    "                if node.next == self.head:\n",
    "                    self.tail = node \n",
    "    def deletecsll(self):\n",
    "        if self.head is None:\n",
    "            return 'Circular linked list does not exist'\n",
    "        else:\n",
    "            self.head = None\n",
    "            self.tail.next = None\n",
    "            self.tail = None\n",
    "            "
   ]
  },
  {
   "cell_type": "code",
   "execution_count": 335,
   "id": "2251fe46",
   "metadata": {},
   "outputs": [],
   "source": [
    "csll = CricularSll()"
   ]
  },
  {
   "cell_type": "code",
   "execution_count": 336,
   "id": "ccab09c5",
   "metadata": {},
   "outputs": [],
   "source": [
    "csll.insert(0,0)\n",
    "csll.insert(1,1)\n",
    "csll.insert(2,2)\n",
    "csll.insert(3,3)\n",
    "csll.insert(4,4)"
   ]
  },
  {
   "cell_type": "code",
   "execution_count": 337,
   "id": "b844816f",
   "metadata": {},
   "outputs": [
    {
     "name": "stdout",
     "output_type": "stream",
     "text": [
      "0\n",
      "1\n",
      "2\n",
      "3\n",
      "4\n",
      "Do you want to print again!n\n"
     ]
    }
   ],
   "source": [
    "csll.traverse()"
   ]
  },
  {
   "cell_type": "code",
   "execution_count": 338,
   "id": "68466191",
   "metadata": {},
   "outputs": [
    {
     "data": {
      "text/plain": [
       "'Value Found !'"
      ]
     },
     "execution_count": 338,
     "metadata": {},
     "output_type": "execute_result"
    }
   ],
   "source": [
    "csll.search(4)"
   ]
  },
  {
   "cell_type": "code",
   "execution_count": 339,
   "id": "9bd0ba2b",
   "metadata": {},
   "outputs": [],
   "source": [
    "csll.delete(0)"
   ]
  },
  {
   "cell_type": "code",
   "execution_count": 340,
   "id": "9ae5497c",
   "metadata": {},
   "outputs": [
    {
     "name": "stdout",
     "output_type": "stream",
     "text": [
      "1\n",
      "2\n",
      "3\n",
      "4\n",
      "Do you want to print again!N\n"
     ]
    }
   ],
   "source": [
    "csll.traverse()"
   ]
  },
  {
   "cell_type": "code",
   "execution_count": 341,
   "id": "f3e140fe",
   "metadata": {},
   "outputs": [],
   "source": [
    "csll.delete(-1)"
   ]
  },
  {
   "cell_type": "code",
   "execution_count": 342,
   "id": "8f632840",
   "metadata": {},
   "outputs": [
    {
     "name": "stdout",
     "output_type": "stream",
     "text": [
      "1\n",
      "2\n",
      "3\n",
      "Do you want to print again!N\n"
     ]
    }
   ],
   "source": [
    "csll.traverse()"
   ]
  },
  {
   "cell_type": "code",
   "execution_count": 332,
   "id": "ff191884",
   "metadata": {},
   "outputs": [],
   "source": [
    "csll.delete(1)"
   ]
  },
  {
   "cell_type": "code",
   "execution_count": 333,
   "id": "1cb4db48",
   "metadata": {},
   "outputs": [
    {
     "name": "stdout",
     "output_type": "stream",
     "text": [
      "1\n",
      "3\n",
      "Do you want to print again!yes\n",
      "1\n",
      "3\n",
      "Do you want to print again!no\n"
     ]
    }
   ],
   "source": [
    "csll.traverse()"
   ]
  },
  {
   "cell_type": "code",
   "execution_count": 343,
   "id": "29e290d6",
   "metadata": {},
   "outputs": [],
   "source": [
    "csll.deletecsll()"
   ]
  },
  {
   "cell_type": "code",
   "execution_count": 347,
   "id": "9f06fa20",
   "metadata": {},
   "outputs": [
    {
     "data": {
      "text/plain": [
       "'Circular linked list does not exist'"
      ]
     },
     "execution_count": 347,
     "metadata": {},
     "output_type": "execute_result"
    }
   ],
   "source": [
    "csll.traverse()"
   ]
  },
  {
   "cell_type": "code",
   "execution_count": 348,
   "id": "bf4d2f43",
   "metadata": {},
   "outputs": [
    {
     "name": "stdout",
     "output_type": "stream",
     "text": [
      "True\n"
     ]
    }
   ],
   "source": [
    "print(True)"
   ]
  },
  {
   "cell_type": "markdown",
   "id": "ef9a0762",
   "metadata": {},
   "source": [
    "## Doubly linked list"
   ]
  },
  {
   "cell_type": "code",
   "execution_count": null,
   "id": "0660e7f3",
   "metadata": {},
   "outputs": [],
   "source": [
    "class Node:\n",
    "    def __init__(self,value):\n",
    "        self.value = value\n",
    "        self.previous = None\n",
    "        self.next = None\n",
    "        \n",
    "class DoublyLinkedlist:\n",
    "    def __init__(self):\n",
    "        self.head = None\n",
    "        self.tail = None\n",
    "        \n",
    "    def insert(self,value,location):\n",
    "        newNode = Node(value)\n",
    "        if self.head is None:\n",
    "            self.head = newNode\n",
    "            self.tail = newNode\n",
    "        else:\n",
    "            if loacation == 0:\n",
    "                pass\n",
    "            elif location ==-1:\n",
    "                pass\n",
    "            else:\n",
    "                pass\n",
    "    def serarch(self,value):\n",
    "        pass\n",
    "    def traverse(self):\n",
    "        pass\n",
    "    def delete(self,location):\n",
    "        pass\n",
    "    def deleteDll(self):\n",
    "        pass\n",
    "    \n",
    "    "
   ]
  }
 ],
 "metadata": {
  "kernelspec": {
   "display_name": "Python 3",
   "language": "python",
   "name": "python3"
  },
  "language_info": {
   "codemirror_mode": {
    "name": "ipython",
    "version": 3
   },
   "file_extension": ".py",
   "mimetype": "text/x-python",
   "name": "python",
   "nbconvert_exporter": "python",
   "pygments_lexer": "ipython3",
   "version": "3.8.8"
  }
 },
 "nbformat": 4,
 "nbformat_minor": 5
}
